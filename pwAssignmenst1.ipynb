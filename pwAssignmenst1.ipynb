{
  "nbformat": 4,
  "nbformat_minor": 0,
  "metadata": {
    "colab": {
      "provenance": []
    },
    "kernelspec": {
      "name": "python3",
      "display_name": "Python 3"
    },
    "language_info": {
      "name": "python"
    }
  },
  "cells": [
    {
      "cell_type": "code",
      "source": [
        "1. What are data structures, and why are they important?\n",
        "ANS= A data structure is a special way of organizing and storing data in a computer so that it can be used efficiently. Think of it like a container or system that helps manage information.\n",
        "\n",
        "Why Are Data Structures Important?\n",
        "✅ Efficient Data Management\n",
        "They allow storing and retrieving data quickly (e.g., searching, sorting, inserting, deleting).\n",
        "\n",
        "✅ Better Performance\n",
        "Choosing the right data structure can significantly improve the speed and performance of a program.\n",
        "\n",
        "✅ Organized Code\n",
        "Help in writing clean, maintainable, and reusable code.\n",
        "\n",
        "✅ Solving Complex Problems\n",
        "Many algorithms rely on specific data structures to work correctly (e.g., Dijkstra’s algorithm uses graphs).\n",
        "\n",
        "✅ Essential in Interviews\n",
        "Almost every technical job interview includes questions on data structures and algorithms.\n",
        "\n"
      ],
      "metadata": {
        "id": "SA7udjVJP37I"
      },
      "execution_count": null,
      "outputs": []
    },
    {
      "cell_type": "code",
      "source": [],
      "metadata": {
        "id": "w8em2ZMPWKyO"
      },
      "execution_count": null,
      "outputs": []
    },
    {
      "cell_type": "code",
      "source": [
        "2. Explain the difference between mutable and immutable data types with examples.\n",
        "\n",
        "\n",
        "ANS= 🔁 Difference Between Mutable and Immutable Data Types in Python:\n",
        "Property\tMutable\tImmutable\n",
        "Definition\tCan be changed after creation\tCannot be changed after creation\n",
        "Examples\tlist, dict, set, bytearray\tint, float, str, tuple, bool, bytes\n",
        "Memory Address\tMay stay the same when modified\tNew object is created when changed\n",
        "\n",
        "✅ Mutable Data Types:\n",
        "These can be modified in place without changing their identity (memory address).\n",
        "\n",
        "Example: List (Mutable)\n",
        "\n",
        "python\n",
        "\n",
        "my_list = [1, 2, 3]\n",
        "print(id(my_list))   # Memory address before\n",
        "my_list.append(4)\n",
        "print(my_list)       # Output: [1, 2, 3, 4]\n",
        "print(id(my_list))   # Same memory address\n",
        "my_str = \"hello\"\n",
        "print(id(my_str))     # Memory address before\n",
        "my_str = my_str + \" world\"\n",
        "print(my_str)         # Output: \"hello world\"\n",
        "print(id(my_str))     # New memory address\n",
        "\n",
        "\n",
        "3.What are the main differences between lists and tuples in Python?\n",
        "ANS= Main Differences Between Lists and Tuples in Python 3\n",
        "Feature\tList\tTuple\n",
        "Mutability\t✅ Mutable (can be changed)\t❌ Immutable (cannot be changed)\n",
        "Syntax\t[1, 2, 3]\t(1, 2, 3)\n",
        "Performance\tSlower (more overhead)\tFaster (less overhead)\n",
        "Use Case\tWhen data needs to change\tWhen data must stay constant\n",
        "Methods Available\tMore (like .append(), .pop())\tFewer (mostly read-only methods)\n",
        "Can be Dictionary Key?\t❌ No\t✅ Yes (if all elements are hashable)\n",
        "\n",
        "4.Describe how dictionaries store data.\n",
        "ANS=Dictionaries, also known as maps or associative arrays, store data in key-value pairs, allowing for efficient data retrieval based on unique keys. Keys are used to access their corresponding values, similar to indices in an array, but offering the flexibility to use any hashable object as a key.\n",
        "\n",
        "5.Why might you use a set instead of a list in Python?\n",
        "ANS.Sets and lists are both used to store collections of items in Python, but they have different characteristics that make them suitable for different tasks. Here are some reasons why you might choose a set over a list:\n",
        "Uniqueness\n",
        "Sets only store unique elements. If you try to add a duplicate element to a set, it will be ignored. Lists, on the other hand, can contain duplicate elements.\n",
        "Unordered\n",
        "Sets do not maintain the order of elements. The order in which elements are added to a set is not guaranteed to be the order in which they are stored or retrieved. Lists, on the other hand, maintain the order of elements.\n",
        "Membership Testing\n",
        "Sets are optimized for membership testing. Checking if an element exists in a set is typically faster than checking if an element exists in a list, especially for large collections."
      ],
      "metadata": {
        "id": "pNKAEP1lRle3"
      },
      "execution_count": null,
      "outputs": []
    },
    {
      "cell_type": "markdown",
      "source": [
        "6.What is a string in Python, and how is it different from a list3\n",
        "\n",
        "\n",
        "ANS.A string is a sequence of characters enclosed in single ('...') or double (\"...\") quotes—e.g., \"hello\"\n",
        "ranyel.medium.com\n",
        ".\n",
        "\n",
        "Python has no separate character type; a single letter like 'a' is still a string of length 1 .\n",
        "\n",
        "Strings are immutable, meaning once created, you can’t change individual characters—e.g., doing s[0] = 'x' raises an error. To modify, you must create a new string\n",
        "geeksforgeeks.org\n",
        "+1\n",
        "cs.swarthmore.edu\n",
        "+1\n",
        ".\n",
        "\n",
        "🛠️ What is a list in Python?\n",
        "A list is a general-purpose sequence container defined with square brackets—e.g., [1, \"a\", 3.14]\n",
        "geeksforgeeks.org\n",
        ".\n",
        "\n",
        "Lists can hold mixed data types, not just characters\n",
        "en.wikipedia.org\n",
        "+5\n",
        "discuss.codecademy.com\n",
        "+5\n",
        "en.wikipedia.org\n",
        "+5\n",
        ".\n",
        "\n",
        "They are mutable, which means you can change elements in place (e.g., my_list[2] = \"new\" works fine)\n",
        "cs.swarthmore.edu\n",
        "+1\n",
        "developers.google.com\n",
        "+1\n"
      ],
      "metadata": {
        "id": "h0W5Vvq3KQ1o"
      }
    },
    {
      "cell_type": "markdown",
      "source": [],
      "metadata": {
        "id": "LXdlVQ2mRk9x"
      }
    },
    {
      "cell_type": "markdown",
      "source": [
        "7.How do tuples ensure data integrity in Python?\n",
        "ANS..| Feature                                    | Description        \n",
        "\n",
        "| **1. Immutability**                        | Once a tuple is created, you **cannot add, remove, or change** any of its elements. This prevents accidental or unauthorized changes to the data.               |\n",
        "| **2. Hashable (if elements are hashable)** | Tuples can be used as keys in dictionaries and elements of sets (unlike lists), which require the key to never change. This enforces stability in mapping data. |\n",
        "| **3. Safe for fixed data structures**      | Ideal for representing data that should not be modified—for example, coordinates `(x, y)`, RGB color values, or database records.                               |\n",
        "| **4. Predictable behavior**                | Tuples maintain **order and structure** but not mutability—so code using them is easier to reason about and less prone to side effects.                         |\n",
        "person = (\"Brajesh\", 30, \"India\")\n",
        "# person[1] = 31  ❌ TypeError: 'tuple' object does not support item assignment\n",
        "| Feature             | Tuple                       | List                    |\n",
        "| ------------------- | --------------------------- | ----------------------- |\n",
        "| Mutability          | ❌ No                        | ✅ Yes                   |\n",
        "| Data Integrity      | ✅ Enforced by design        | ❌ Can be changed easily |\n",
        "| Use in `dict`/`set` | ✅ If elements are immutable | ❌ Lists are unhashable  |\n"
      ],
      "metadata": {
        "id": "9aIS2qhhK3Vy"
      }
    },
    {
      "cell_type": "markdown",
      "source": [
        "8.What is a hash table, and how does it relate to dictionaries in Python?\n",
        "ANS.A hash table is a data structure that stores key–value pairs and allows fast data access based on keys. It's the underlying structure used by dictionaries in Python.\n",
        "\n",
        "📦 What is a hash table?\n",
        "A hash table works like this:\n",
        "\n",
        "Hashing the key: A special function (called a hash function) converts the key (like \"name\" or 42) into a numeric index.\n",
        "\n",
        "Indexing into an array: This index points to a location in an internal array (called a bucket) where the value is stored.\n",
        "\n",
        "Fast lookup: Instead of searching through all the data, Python jumps directly to the correct index using the hash, making operations very fast—on average O(1) time.\n",
        "\n",
        "🧠 How it relates to Python dictionaries\n",
        "Python's dict is a high-level abstraction of a hash table, offering:\n",
        "\n",
        "Fast lookups (e.g. my_dict[\"name\"])\n",
        "\n",
        "Efficient insertions and deletions\n",
        "\n",
        "Unique keys: because hash tables do not allow duplicate keys\n",
        "\n",
        "Hashing rules: keys must be hashable (i.e., immutable like strings, numbers, or tuples)\n",
        "\n",
        "my_dict = {\"name\": \"Brajesh\", \"age\": 30}\n",
        "\"name\" is hashed → say to index 4 → Python stores \"Brajesh\" there.\n",
        "\n",
        "\"age\" is hashed → say to index 9 → Python stores 30 there.\n",
        "\n",
        "When you do my_dict[\"name\"], Python doesn't search through the dictionary. It just rehashes \"name\" and jumps to index 4.\n",
        "\n",
        "🛡️ What if two keys hash to the same index?\n",
        "This is called a collision, and Python handles it using techniques like:\n",
        "\n",
        "Open addressing: looks for the next available bucket\n",
        "\n",
        "Probing strategies: to resolve where to place data without losing it\n",
        "\n",
        "🔍 Summary\n",
        "Feature\tHash Table\tPython Dictionary (dict)\n",
        "Structure\tArray + hash function\tBuilt on hash table\n",
        "Key access time\tO(1) average\tO(1) average\n",
        "Handles collisions\tYes\tYes (internally managed)\n",
        "Requires unique keys\tYes\tYes\n",
        "Requires hashable keys\tYes\tYes (__hash__() method required)\n",
        "\n",
        "✅ Conclusion\n",
        "A dictionary in Python is a hash table in disguise—optimized and powerful. It lets you store and retrieve values by key quickly, thanks to hashing.\n",
        "\n",
        "Let me know if you want to see a visual or step-by-step simulation of how a hash table works!\n",
        "\n",
        "\n",
        "\n",
        "\n",
        "\n",
        "\n",
        "\n",
        "\n",
        "\n",
        "\n"
      ],
      "metadata": {
        "id": "uZjpkFpJLlAP"
      }
    },
    {
      "cell_type": "markdown",
      "source": [
        "9. Can lists contain different data types in Python?\n",
        "ANS.Yes, lists in Python can contain different data types.\n",
        "\n",
        "This is one of the key features of Python lists—they are heterogeneous containers, meaning you can store items of different types in the same list.\n",
        "\n",
        "✅ Example:\n",
        "python\n",
        "Copy\n",
        "Edit\n",
        "mixed_list = [10, \"hello\", 3.14, True, [1, 2], {\"key\": \"value\"}]\n",
        "print(mixed_list)\n",
        "[10, 'hello', 3.14, True, [1, 2], {'key': 'value'}]\n",
        "Here the list contains:\n",
        "\n",
        "An integer (10)\n",
        "\n",
        "A string (\"hello\")\n",
        "\n",
        "A float (3.14)\n",
        "\n",
        "A boolean (True)\n",
        "\n",
        "Another list ([1, 2])\n",
        "\n",
        "A dictionary ({\"key\": \"value\"})\n"
      ],
      "metadata": {
        "id": "AEb-ydyTMTiu"
      }
    },
    {
      "cell_type": "markdown",
      "source": [
        "10. Explain why strings are immutable in Python.\n",
        "AnS..:\n",
        "🔒 Why Are Strings Immutable in Python?\n",
        "Strings in Python are immutable, meaning once a string is created, it cannot be changed. Any operation that seems to modify a string actually creates a new string.\n",
        "\n",
        "✅ Reasons Why Strings Are Immutable:\n",
        "1. Performance & Memory Efficiency\n",
        "Strings are used frequently in Python (e.g., variable names, dictionary keys, text processing).\n",
        "\n",
        "Immutability allows string interning, where Python reuses identical string objects to save memory and speed up comparisons.\n",
        "\n",
        "a = \"hello\"\n",
        "b = \"hello\"\n",
        "print(a is b)  # True — both point to the same object\n",
        ". Security and Reliability\n",
        "Since strings often represent sensitive data (e.g., file paths, database queries), making them immutable helps prevent accidental or malicious modification.\n",
        "\n",
        "3. Hashability\n",
        "Immutability makes strings hashable, meaning they can be used as:\n",
        "\n",
        "Keys in dictionaries: {\"name\": \"Brajesh\"}\n",
        "\n",
        "Elements in sets: {\"apple\", \"banana\"}\n",
        "\n",
        "If strings were mutable, their hash values could change, which would break dictionary\n",
        "\n"
      ],
      "metadata": {
        "id": "V6PlL_VHM_Kf"
      }
    },
    {
      "cell_type": "markdown",
      "source": [
        "11. What advantages do dictionaries offer over lists for certain tasks?\n",
        "ANS.Dictionaries in Python offer significant advantages over lists for certain tasks—especially when you need to work with key-value pairs and require fast lookups. Here’s a clear comparison to help you understand when and why to use dictionaries:\n",
        "\n",
        "✅ Key Advantages of Dictionaries over Lists:\n",
        "Feature\tDictionary (dict)\tList (list)\n",
        "🔍 Fast lookup by key\tO(1) average time using hash table\tO(n) time (must scan through the list)\n",
        "🗂️ Key-value pairing\tStores data with meaningful labels (keys)\tStores items in a numbered sequence\n",
        "🚀 Efficient updates\tQuickly update values by key: data[\"age\"] = 30\tMust search for item or use index\n",
        "❌ Avoids duplicates by key\tKeys must be unique\tLists allow duplicate values\n",
        "✅ Flexible data access\tAccess by name: person[\"name\"]\tAccess by index: person[0]\n",
        " Ideal for structured data\tGreat for objects, records, configs, JSON data\tBetter for ordered collections or sequences\n",
        " 🧠 Example Use Case\n",
        "🔸 Using a List:\n",
        "python\n",
        "person = [\"Brajesh\", 30, \"India\"]\n",
        "# Hard to know what each index represents\n",
        "🔹 Using a Dictionary:\n",
        "python\n",
        "Copy\n",
        "Edit\n",
        "person = {\"name\": \"Brajesh\", \"age\": 30, \"country\": \"India\"}\n",
        "print(person[\"name\"])  # Easy and clear access\n"
      ],
      "metadata": {
        "id": "7njkdsQ_hIn6"
      }
    },
    {
      "cell_type": "markdown",
      "source": [
        "12. Describe a scenario where using a tuple would be preferable over a list.\n",
        "ANS.✅ Scenario: Using a Tuple Instead of a List\n",
        "# A tuple is preferable over a list when you want to store a fixed collection of items that should not be changed—this helps ensure data integrity and allows safe usage in data structures like dictionaries or sets.\n",
        "\n",
        "📌 Real-World Scenario: Representing Coordinates\n",
        "Suppose you're working on a mapping or graphics program, and you need to represent points on a grid or canvas.\n",
        "\n",
        "python\n",
        "\n",
        "point = (100, 200)\n",
        "Why use a tuple?\n",
        "Reason\tExplanation\n",
        "🔒 Immutability\tCoordinates shouldn't change accidentally—tuples protect them from updates\n",
        "⚡ Hashable\tTuples can be used as keys in dictionaries or elements in sets\n",
        "🧠 Clear intent\tA tuple says: \"this is a fixed-size, read-only group of values\"\n",
        "🧩 Performance\tTuples are slightly more memory-efficient and faster than lists\n"
      ],
      "metadata": {
        "id": "G_WSd5c7h7yu"
      }
    },
    {
      "cell_type": "markdown",
      "source": [
        "13.How do sets handle duplicate values in Python?\n",
        "ANS.In Python, sets are designed to store only unique elements. When you attempt to add a duplicate value to a set, it does not raise an error, but it also does not add the duplicate. The set simply ignores the duplicate value, ensuring that it maintains its property of containing only unique elements.\n",
        "For example:\n",
        "Python\n",
        "\n",
        "my_set = {1, 2, 2, 3, 4, 4, 5}\n",
        "print(my_set)\n",
        "Output:\n",
        "Code\n",
        "\n",
        "{1, 2, 3, 4, 5}\n",
        "As you can see, the duplicate values 2 and 4 were ignored, and the set contains only one instance of each unique element."
      ],
      "metadata": {
        "id": "-ON5f3rRimRk"
      }
    },
    {
      "cell_type": "markdown",
      "source": [
        "14.How does the “in” keyword work differently for lists and dictionaries?\n",
        "\n",
        "ANS.The in keyword in Python is used to check for membership, but it works differently for lists and dictionaries based on what they store.\n",
        "fruits = [\"apple\", \"banana\", \"mango\"]\n",
        "print(\"banana\" in fruits)  # ✅ True\n",
        "print(\"grape\" in fruits)   # ❌ False\n",
        "✅ in checks if a value exists in the list.\n",
        "\n",
        "It searches through the list sequentially (O(n)).\n",
        "\n",
        "person = {\"name\": \"Brajesh\", \"age\": 30}\n",
        "print(\"name\" in person)    # ✅ True (key exists)\n",
        "print(\"Brajesh\" in person) # ❌ False (value, not key)\n",
        "✅ in checks if a key exists in the dictionary.\n",
        "\n",
        "It uses hashing → very fast (O(1) average).\n",
        "\n",
        "\n"
      ],
      "metadata": {
        "id": "CK0-KYozjA8L"
      }
    },
    {
      "cell_type": "markdown",
      "source": [
        "15. Can you modify the elements of a tuple? Explain why or why not?\n",
        "ANS. No, you cannot modify the elements of a tuple in Python. Tuples are immutable, meaning once a tuple is created, its elements cannot be changed, added, or removed.\n",
        "my_tuple = (10, 20, 30)\n",
        "my_tuple[1] = 99  # ❌ Raises: TypeError: 'tuple' object does not support item assignment\n",
        "my_tuple = (1, [2, 3], 4)\n",
        "my_tuple[1].append(5)\n",
        "print(my_tuple)  # Output: (1, [2, 3, 5], 4)\n",
        "\n",
        "\n",
        "\n",
        "\n",
        "16. What is a nested dictionary, and give an example of its use case?\n",
        "ANS.  A nested dictionary in Python is a dictionary where the values are themselves dictionaries. This allows you to create hierarchical data structures, grouping related data within a single dictionary.\n",
        "Use Case Example:\n",
        "Consider representing student data in a Python dictionary. You could use a nested dictionary to organize information about students, including their name, course enrollment, and grades.\n",
        "student_data = {\n",
        "  'Alice': {\n",
        "    'courses': ['Math', 'Physics', 'English'],\n",
        "    'grades': {'Math': 'A', 'Physics': 'B', 'English': 'C'}\n",
        "  },\n",
        "  'Bob': {\n",
        "    'courses': ['Math', 'Chemistry', 'History'],\n",
        "    'grades': {'Math': 'B', 'Chemistry': 'A', 'History': 'C'}\n",
        "  }\n",
        "}"
      ],
      "metadata": {
        "id": "12uPy_2hjopn"
      }
    },
    {
      "cell_type": "code",
      "source": [
        "17. Describe the time complexity of accessing elements in a dictionary.\n",
        "ANS. ⏱️ Time Complexity of Accessing Elements in a Dictionary\n",
        "In Python, accessing an element in a dictionary by key is very fast—thanks to the underlying hash table implementation.\n",
        "\n",
        "✅ Average Case Time Complexity\n",
        "scss\n",
        "\n",
        "O(1) — Constant Time\n",
        "When you do something like my_dict[\"name\"], Python uses the key's hash value to directly jump to the right memory location.\n",
        "\n",
        "This makes dictionary lookups very efficient, even for large datasets.\n",
        "\n",
        "⚠️ Worst Case Time Complexity\n",
        "scss\n",
        "\n",
        "O(n) — Linear Time\n",
        "This happens rarely, only when:\n",
        "\n",
        "Many keys hash to the same index (a hash collision)\n",
        "\n",
        "Python must search through multiple items in one bucket\n",
        "\n",
        "Python handles this with collision resolution techniques, like open addressing, to keep performance close to O(1) in most cases.\n",
        "\n",
        "📌 Example\n",
        "python\n",
        "\n",
        "data = {\"id\": 101, \"name\": \"Brajesh\", \"role\": \"Developer\"}\n",
        "print(data[\"name\"])  # O(1) time\n",
        "🧠 Summary Table\n",
        "Operation\tAverage Case\tWorst Case\n",
        "Access (dict[key])\tO(1)\tO(n)\n",
        "Insert/Update\tO(1)\tO(n)\n",
        "Delete (del dict[key])\tO(1)\tO(n)\n",
        "\n",
        "✅ Key Takeaway:\n",
        "Python dictionaries are highly optimized for fast access, making them one of the most powerful built-in data structures for lookups, caching, and mapping relationships.\n",
        "\n",
        "Let me know if you want to see how this compares with lists or sets!\n",
        "\n",
        "\n",
        "\n",
        "\n",
        "\n",
        "18. In what situations are lists preferred over dictionaries?\n",
        "ANS.Lists are often preferred over dictionaries when order matters, or when dealing with data that may change in the future. Lists are also useful for ordered operations like sorting, and when dealing with data that may need to be iterated upon.\n",
        "Here's a more detailed breakdown of when lists are a better choice:\n",
        "Maintaining Order:\n",
        "Lists are ideal when the sequence of elements is crucial. For example, if you're tracking user actions in a specific order, a list would be appropriate.\n",
        "Iterating and Processing:\n",
        "Lists are easily iterable, making them great for looping through data, performing calculations, or transforming data.\n",
        "Sorting and Shuffling:\n",
        "Lists allow for easy sorting and shuffling of elements, making them suitable for tasks like generating random lists or arranging data in a specific way.\n",
        "Storing a Collection of Related Objects:\n",
        "Lists can hold heterogeneous collections of related objects, allowing for flexibility in data storage.\n",
        "Dynamically Changing Data:\n",
        "\n",
        "\n",
        "\n"
      ],
      "metadata": {
        "id": "BCqoFLIPlYY9"
      },
      "execution_count": null,
      "outputs": []
    },
    {
      "cell_type": "markdown",
      "source": [
        "19.Why are dictionaries considered unordered, and how does that affect data retrieval?\n",
        "ANS.Historically, dictionaries in Python were considered unordered because they didn’t preserve the insertion order of items before Python 3.7. The keys and values were stored based on hashes, not positions, so the order in which you added items wasn't guaranteed to be maintained.\n",
        "\n",
        "🕓 Python 3.7 and Later:\n",
        "Since Python 3.7 (and officially guaranteed in 3.8+), dictionaries do preserve insertion order.\n",
        "\n",
        "python\n",
        "data = {\"a\": 1, \"b\": 2, \"c\": 3}\n",
        "print(data)  # Output: {'a': 1, 'b': 2, 'c': 3}\n",
        "Example,info = {\"name\": \"Brajesh\", \"age\": 25, \"city\": \"Dehradun\"}\n",
        "\n",
        "# You can do this:\n",
        "print(info[\"city\"])  # Output: Dehradun\n",
        "\n",
        "# But NOT this:\n",
        "# print(info[0])  # ❌ KeyError or unexpected result\n",
        "\n",
        "\n"
      ],
      "metadata": {
        "id": "IPyok5IEmp9J"
      }
    },
    {
      "cell_type": "markdown",
      "source": [],
      "metadata": {
        "id": "biV4OhdClXmI"
      }
    },
    {
      "cell_type": "markdown",
      "source": [
        "20. Explain the difference between a list and a dictionary in terms of data retrieval.\n",
        "ANS. Difference Between List and Dictionary in Data Retrieval\n",
        "Lists and dictionaries are both built-in data structures in Python, but they differ in how you retrieve data from them:\n",
        "\n",
        "📋 1. List: Retrieval by Index (Position)\n",
        "Lists store items in a sequential order\n",
        "\n",
        "You retrieve elements using numeric indices (starting from 0)\n",
        "fruits = [\"apple\", \"banana\", \"cherry\"]\n",
        "print(fruits[1])  # Output: banana\n",
        "2. Dictionary: Retrieval by Key\n",
        "Dictionaries store key-value pairs\n",
        "\n",
        "You retrieve data using a key, not an index\n",
        "\n",
        "python\n",
        "\n",
        "person = {\"name\": \"Brajesh\", \"age\": 25}\n",
        "print(person[\"name\"])  # Output: Brajesh\n",
        "\n",
        "\n",
        "\n"
      ],
      "metadata": {
        "id": "ZTaQjDYfnrb2"
      }
    },
    {
      "cell_type": "code",
      "source": [
        "                                                    {PRACTICAL QUESTION}"
      ],
      "metadata": {
        "id": "0CbPpsWToZ_N"
      },
      "execution_count": null,
      "outputs": []
    },
    {
      "cell_type": "code",
      "source": [
        "1.Write a code to create a string with your name and print it.\n",
        "name = \"Brajesh\"\n",
        "print(name)\n",
        "\n",
        "2.Write a code to find the length of the string \"Hello World\"\n",
        "\n",
        " the Python code to find the length of the string `\"Hello World\"`:\n",
        "\n",
        "`python\n",
        "text = \"Hello World\"\n",
        "length = len(text)\n",
        "print(length)\n",
        "\n",
        "\n",
        "3.Write a code to slice the first 3 characters from the string \"Python Programming\"\n",
        "text = \"Python Programming\"\n",
        "first_three = text[:3]\n",
        "print(first_three)\n",
        "\n",
        "4. Write a code to convert the string \"hello\" to uppercase.\n",
        "Ans.text = \"hello\"\n",
        "uppercase_text = text.upper()\n",
        "print(uppercase_text)\n",
        "\n",
        "5.Write a code to replace the word \"apple\" with \"orange\" in the string \"I like apple\"\n",
        "\n",
        "Ans.text = \"I like apple\"\n",
        "new_text = text.replace(\"apple\", \"orange\")\n",
        "print(new_text)\n",
        "\n",
        "6.Write a code to create a list with numbers 1 to 5 and print it.\n",
        "Ans.numbers = [1, 2, 3, 4, 5]\n",
        "print(numbers)\n"
      ],
      "metadata": {
        "id": "Z6Jixht3omcs"
      },
      "execution_count": null,
      "outputs": []
    },
    {
      "cell_type": "code",
      "source": [
        "7.Write a code to append the number 10 to the list [1, 2, 3, 4].\n",
        "Ans.numbers = [1, 2, 3, 4]\n",
        "numbers.append(10)\n",
        "print(numbers)\n",
        "\n",
        "8.Write a code to remove the number 3 from the list [1, 2, 3, 4, 5].\n",
        "Ans.numbers = [1, 2, 3, 4, 5]\n",
        "numbers.remove(3)\n",
        "print(numbers)\n",
        "\n",
        "9.Write a code to access the second element in the list ['a', 'b', 'c', 'd'].\n",
        "ANS.letters = ['a', 'b', 'c', 'd']\n",
        "second_element = letters[1]\n",
        "print(second_element)\n",
        "\n",
        "10.Write a code to reverse the list [10, 20, 30, 40, 50].\n",
        "Ans. Here's the Python code to reverse the list [10, 20, 30, 40, 50]:\n",
        "\n",
        "python\n",
        "\n",
        "numbers = [10, 20, 30, 40, 50]\n",
        "numbers.reverse()\n",
        "print(numbers)\n",
        "🔄 Alternative using slicing:\n",
        "python\n",
        "\n",
        "numbers = [10, 20, 30, 40, 50]\n",
        "reversed_list = numbers[::-1]\n",
        "print(reversed_list)\n",
        "\n",
        "\n",
        "\n",
        "11.Write a code to create a tuple with the elements 100, 200, 300 and print it.\n",
        "ANS.my_tuple = (100, 200, 300)\n",
        "print(my_tuple)\n",
        "\n",
        "12.Write a code to access the second-to-last element of the tuple ('red', 'green', 'blue', 'yellow').\n",
        "ANS.colors = ('red', 'green', 'blue', 'yellow')\n",
        "second_to_last = colors[-2]\n",
        "print(second_to_last)\n",
        "\n",
        "13.Write a code to find the minimum number in the tuple (10, 20, 5, 15)\n",
        "Ans.numbers = (10, 20, 5, 15)\n",
        "minimum = min(numbers)\n",
        "print(minimum)\n",
        "\n",
        "\n",
        " 14.Write a code to find the index of the element \"cat\" in the tuple ('dog', 'cat', 'rabbit').\n",
        " ANS.animals = ('dog', 'cat', 'rabbit')\n",
        "index_of_cat = animals.index(\"cat\")\n",
        "print(index_of_cat)\n",
        "\n",
        " 15. Write a code to create a tuple containing three different fruits and check if \"kiwi\" is in it.\n",
        "\n",
        "ANS.# 1. Create a tuple containing three fruits\n",
        ":contentReference[oaicite:4]{index=4}\n",
        "\n",
        "# 2. Check if \"kiwi\" is in the tuple\n",
        ":contentReference[oaicite:5]{index=5}\n",
        "    :contentReference[oaicite:6]{index=6}\n",
        "else:\n",
        "    :contentReference[oaicite:7]{index=7}\n",
        "\n"
      ],
      "metadata": {
        "id": "p3cDbsMhtVIZ"
      },
      "execution_count": null,
      "outputs": []
    },
    {
      "cell_type": "code",
      "source": [
        "16.Write a code to create a set with the elements 'a', 'b', 'c' and print it.\n",
        "ANS.my_set = set(['a', 'b', 'c'])\n",
        "print(my_set)\n"
      ],
      "metadata": {
        "id": "ZvdR4elM7RBI"
      },
      "execution_count": null,
      "outputs": []
    },
    {
      "cell_type": "code",
      "source": [
        "17 Write a code to clear all elements from the set {1, 2, 3, 4, 5}.\n",
        "ANS.# Original set\n",
        ":contentReference[oaicite:1]{index=1}\n",
        "\n",
        "# Clear all elements (in-place)\n",
        "my_set.clear()\n",
        "\n",
        "# Print the now-empty set\n",
        ":contentReference[oaicite:2]{index=2}\n"
      ],
      "metadata": {
        "id": "81VJ3N7g7m-R"
      },
      "execution_count": null,
      "outputs": []
    },
    {
      "cell_type": "code",
      "source": [
        "18.Write a code to remove the element 4 from the set {1, 2, 3, 4}.\n",
        "Ans.# Original set\n",
        "my_set = {1, 2, 3, 4}\n",
        "\n",
        "# Remove the element 4\n",
        "my_set.remove(4)\n",
        "\n",
        "# Print the updated set\n",
        "print(my_set)  # Output: {1, 2, 3}\n"
      ],
      "metadata": {
        "id": "RdmOT0q58n8z"
      },
      "execution_count": null,
      "outputs": []
    },
    {
      "cell_type": "code",
      "source": [
        "19.. Write a code to find the union of two sets {1, 2, 3} and {3, 4, 5}.\n",
        "ANS.# Define the two sets\n",
        "set1 = {1, 2, 3}\n",
        "set2 = {3, 4, 5}\n",
        "\n",
        "# Find the union using union() method\n",
        "union_set = set1.union(set2)\n",
        "\n",
        "# Print the result\n",
        "print(union_set)  # Output: {1, 2, 3, 4, 5}\n",
        "\n",
        "union_set = set1 | set2\n",
        "print(union_set)  # Output: {1, 2, 3, 4, 5}\n",
        "\n"
      ],
      "metadata": {
        "id": "fjcWcK9L9XFg"
      },
      "execution_count": null,
      "outputs": []
    },
    {
      "cell_type": "code",
      "source": [
        "20.Write a code to find the intersection of two sets {1, 2, 3} and {2, 3, 4}.\n",
        "ANS.# Define the two sets\n",
        "set1 = {1, 2, 3}\n",
        "set2 = {2, 3, 4}\n",
        "\n",
        "# Find the intersection using intersection() method\n",
        "intersection_set = set1.intersection(set2)\n",
        "\n",
        "# Print the result\n",
        "print(intersection_set)  # Output: {2, 3}\n",
        "\n",
        "intersection_set = set1 & set2\n",
        "print(intersection_set)  # Output: {2, 3}\n"
      ],
      "metadata": {
        "id": "RhowqwXC-SLU"
      },
      "execution_count": null,
      "outputs": []
    },
    {
      "cell_type": "code",
      "source": [
        "21.Write a code to create a dictionary with the keys \"name\", \"age\", and \"city\", and print it.\n",
        "ANS.# Create the dictionary\n",
        "person = {\n",
        "    \"name\": \"Alice\",\n",
        "    \"age\": 30,\n",
        "    \"city\": \"New York\"\n",
        "}\n",
        "\n",
        "# Print the dictionary\n",
        "print(person)\n",
        "\n",
        "  Output:\n",
        "bash\n",
        "\n",
        "{'name': 'Alice', 'age': 30, 'city': 'New York'}\n"
      ],
      "metadata": {
        "id": "rL6md0dB-mU_"
      },
      "execution_count": null,
      "outputs": []
    },
    {
      "cell_type": "code",
      "source": [
        "22.Write a code to add a new key-value pair \"country\": \"USA\" to the dictionary {'name': 'John', 'age': 25}.\n",
        "ANS.# Original dictionary\n",
        "person = {'name': 'John', 'age': 25}\n",
        "\n",
        "# Add new key-value pair\n",
        "person['country'] = 'USA'\n",
        "\n",
        "# Print the updated dictionary\n",
        "print(person)\n",
        "\n",
        "\n",
        "Output:\n",
        "bash\n",
        "\n",
        "{'name': 'John', 'age': 25, 'country': 'USA'}"
      ],
      "metadata": {
        "id": "aTNTuZyc_Cgc"
      },
      "execution_count": null,
      "outputs": []
    },
    {
      "cell_type": "code",
      "source": [
        "23.Write a code to access the value associated with the key \"name\" in the dictionary {'name': 'Alice', 'age': 30}.\n",
        "Ans.# Define the dictionary\n",
        "person = {'name': 'Alice', 'age': 30}\n",
        "\n",
        "# Access the value associated with the key \"name\"\n",
        "name_value = person['name']\n",
        "\n",
        "# Print the value\n",
        "print(name_value)\n"
      ],
      "metadata": {
        "id": "Txprzndg_nlK"
      },
      "execution_count": null,
      "outputs": []
    },
    {
      "cell_type": "code",
      "source": [
        "24. Write a code to remove the key \"age\" from the dictionary {'name': 'Bob', 'age': 22, 'city': 'New York'}\n",
        "ANS.# Original dictionary\n",
        "person = {'name': 'Bob', 'age': 22, 'city': 'New York'}\n",
        "\n",
        "# Remove the key \"age\"\n",
        "del person['age']\n",
        "\n",
        "# Print the updated dictionary\n",
        "print(person)"
      ],
      "metadata": {
        "id": "j6L7_L1cAFk4"
      },
      "execution_count": null,
      "outputs": []
    },
    {
      "cell_type": "code",
      "source": [
        "25.Write a code to check if the key \"city\" exists in the dictionary {'name': 'Alice', 'city': 'Paris'}.\n",
        "ANS.# Define the dictionary\n",
        "person = {'name': 'Alice', 'city': 'Paris'}\n",
        "\n",
        "# Check if \"city\" is a key in the dictionary\n",
        "if 'city' in person:\n",
        "    print(\"Key 'city' exists in the dictionary.\")\n",
        "else:\n",
        "    print(\"Key 'city' does not exist in the dictionary.\")\n"
      ],
      "metadata": {
        "id": "zWYcFpWvATS9"
      },
      "execution_count": null,
      "outputs": []
    },
    {
      "cell_type": "code",
      "source": [
        "26.Write a code to create a list, a tuple, and a dictionary, and print them all.\n",
        "ANS.# Create a list\n",
        "my_list = [1, 2, 3, 4, 5]\n",
        "\n",
        "# Create a tuple\n",
        "my_tuple = ('apple', 'banana', 'cherry')\n",
        "\n",
        "# Create a dictionary\n",
        "my_dict = {'name': 'Alice', 'age': 30, 'city': 'Paris'}\n",
        "\n",
        "# Print all of them\n",
        "print(\"List:\", my_list)\n",
        "print(\"Tuple:\", my_tuple)\n",
        "print(\"Dictionary:\", my_dict)\n"
      ],
      "metadata": {
        "id": "I1K__3P3Ao4l"
      },
      "execution_count": null,
      "outputs": []
    },
    {
      "cell_type": "code",
      "source": [
        "27.Write a code to create a list of 5 random numbers between 1 and 100, sort it in ascending order, and print the\n",
        "result.(replaced)\n",
        "ANS.import random\n",
        "\n",
        "# Create a list of 5 random numbers between 1 and 100\n",
        "random_numbers = [random.randint(1, 100) for _ in range(5)]\n",
        "\n",
        "# Sort the list in ascending order\n",
        "random_numbers.sort()\n",
        "\n",
        "# Print the result\n",
        "print(\"Sorted list:\", random_numbers)\n"
      ],
      "metadata": {
        "id": "PZ-HAVnBBEJD"
      },
      "execution_count": null,
      "outputs": []
    },
    {
      "cell_type": "code",
      "source": [
        "28.Write a code to create a list with strings and print the element at the third index.\n",
        "ANS.# Create a list with strings\n",
        "string_list = [\"apple\", \"banana\", \"cherry\", \"date\", \"elderberry\"]\n",
        "\n",
        "# Print the element at the third index (index starts from 0)\n",
        "print(\"Element at third index:\", string_list[3])\n"
      ],
      "metadata": {
        "id": "JQUlnU6yBmFu"
      },
      "execution_count": null,
      "outputs": []
    },
    {
      "cell_type": "code",
      "source": [
        "29.Write a code to combine two dictionaries into one and print the result.\n",
        "\n",
        "ans.# Define two dictionaries\n",
        "dict1 = {\"name\": \"Alice\", \"age\": 25}\n",
        "dict2 = {\"city\": \"Paris\", \"country\": \"France\"}\n",
        "\n",
        "# Combine the dictionaries\n",
        "combined_dict = {**dict1, **dict2}\n",
        "\n",
        "# Print the result\n",
        "print(\"Combined dictionary:\", combined_dict)\n",
        "Combined dictionary: {'name': 'Alice', 'age': 25, 'city': 'Paris', 'country': 'France'}\n",
        "\n"
      ],
      "metadata": {
        "id": "N7BARx9RB2ho"
      },
      "execution_count": null,
      "outputs": []
    },
    {
      "cell_type": "code",
      "source": [
        "30.Write a code to convert a list of strings into a set.\n",
        "ANS.# Create a list of strings\n",
        "string_list = [\"apple\", \"banana\", \"cherry\", \"apple\", \"banana\"]\n",
        "\n",
        "# Convert the list into a set\n",
        "string_set = set(string_list)\n",
        "\n",
        "# Print the result\n",
        "print(\"Set:\", string_set)\n"
      ],
      "metadata": {
        "id": "7jAnD1vICP0l"
      },
      "execution_count": null,
      "outputs": []
    },
    {
      "cell_type": "markdown",
      "source": [],
      "metadata": {
        "id": "KfM-pgngoScO"
      }
    }
  ]
}